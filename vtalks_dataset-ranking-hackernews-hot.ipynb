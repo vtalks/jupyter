{
 "cells": [
  {
   "cell_type": "markdown",
   "metadata": {},
   "source": [
    "# Ranking (hacker news hot) analysis for vtalks.net"
   ]
  },
  {
   "cell_type": "markdown",
   "metadata": {},
   "source": [
    "## Introduction"
   ]
  },
  {
   "cell_type": "code",
   "execution_count": 398,
   "metadata": {},
   "outputs": [
    {
     "name": "stdout",
     "output_type": "stream",
     "text": [
      "/Users/raul/Projects/vtalks/jupyter\r\n"
     ]
    }
   ],
   "source": [
    "!pwd"
   ]
  },
  {
   "cell_type": "markdown",
   "metadata": {},
   "source": [
    "### Setup & Configuration <a class=\"anchor\" id=\"setup-and-configuration\"></a>"
   ]
  },
  {
   "cell_type": "code",
   "execution_count": 399,
   "metadata": {
    "scrolled": true
   },
   "outputs": [],
   "source": [
    "import numpy as np\n",
    "import pandas as pd\n",
    "import pandas_profiling as pp\n",
    "import matplotlib.pyplot as plt\n",
    "import seaborn\n",
    "\n",
    "%matplotlib inline\n",
    "\n",
    "seaborn.set()\n",
    "plt.rc('figure', figsize=(16,8))\n",
    "plt.style.use('bmh')"
   ]
  },
  {
   "cell_type": "markdown",
   "metadata": {},
   "source": [
    "### Load the Data Set <a class=\"anchor\" id=\"load-the-dataset\"></a>"
   ]
  },
  {
   "cell_type": "code",
   "execution_count": 335,
   "metadata": {
    "scrolled": true
   },
   "outputs": [],
   "source": [
    "# data_source = \"../.dataset/vtalks_dataset_2018.csv\"\n",
    "# data_source = \"../.dataset/vtalks_dataset_2017.csv\"\n",
    "# data_source = \"../.dataset/vtalks_dataset_2016.csv\"\n",
    "# data_source = \"../.dataset/vtalks_dataset_2015.csv\"\n",
    "# data_source = \"../.dataset/vtalks_dataset_2014.csv\"\n",
    "# data_source = \"../.dataset/vtalks_dataset_2013.csv\"\n",
    "# data_source = \"../.dataset/vtalks_dataset_2012.csv\"\n",
    "# data_source = \"../.dataset/vtalks_dataset_2011.csv\"\n",
    "# data_source = \"../.dataset/vtalks_dataset_2010.csv\"\n",
    "data_source = \"../.dataset/vtalks_dataset_all.csv\"\n",
    "\n",
    "data_set = pd.read_csv(\n",
    "    data_source,\n",
    "    parse_dates=[1],\n",
    "    dtype={\n",
    "        'id': int,\n",
    "        'youtube_view_count': int, \n",
    "        'youtube_like_count': int,\n",
    "        'youtube_dislike_count': int,\n",
    "        'youtube_favorite_count': int,\n",
    "        'view_count': int, \n",
    "        'like_count': int,\n",
    "        'dislike_count': int,\n",
    "        'favorite_count': int\n",
    "    })"
   ]
  },
  {
   "cell_type": "code",
   "execution_count": 336,
   "metadata": {
    "scrolled": true
   },
   "outputs": [
    {
     "name": "stdout",
     "output_type": "stream",
     "text": [
      "<class 'pandas.core.frame.DataFrame'>\n",
      "RangeIndex: 20334 entries, 0 to 20333\n",
      "Data columns (total 10 columns):\n",
      "id                        20334 non-null int64\n",
      "created                   20334 non-null datetime64[ns]\n",
      "youtube_view_count        20334 non-null int64\n",
      "youtube_like_count        20334 non-null int64\n",
      "youtube_dislike_count     20334 non-null int64\n",
      "youtube_favorite_count    20334 non-null int64\n",
      "view_count                20334 non-null int64\n",
      "like_count                20334 non-null int64\n",
      "dislike_count             20334 non-null int64\n",
      "favorite_count            20334 non-null int64\n",
      "dtypes: datetime64[ns](1), int64(9)\n",
      "memory usage: 1.6 MB\n"
     ]
    }
   ],
   "source": [
    "data_set.info()"
   ]
  },
  {
   "cell_type": "code",
   "execution_count": 337,
   "metadata": {
    "scrolled": false
   },
   "outputs": [
    {
     "data": {
      "text/html": [
       "<div>\n",
       "<style scoped>\n",
       "    .dataframe tbody tr th:only-of-type {\n",
       "        vertical-align: middle;\n",
       "    }\n",
       "\n",
       "    .dataframe tbody tr th {\n",
       "        vertical-align: top;\n",
       "    }\n",
       "\n",
       "    .dataframe thead th {\n",
       "        text-align: right;\n",
       "    }\n",
       "</style>\n",
       "<table border=\"1\" class=\"dataframe\">\n",
       "  <thead>\n",
       "    <tr style=\"text-align: right;\">\n",
       "      <th></th>\n",
       "      <th>id</th>\n",
       "      <th>youtube_view_count</th>\n",
       "      <th>youtube_like_count</th>\n",
       "      <th>youtube_dislike_count</th>\n",
       "      <th>youtube_favorite_count</th>\n",
       "      <th>view_count</th>\n",
       "      <th>like_count</th>\n",
       "      <th>dislike_count</th>\n",
       "      <th>favorite_count</th>\n",
       "    </tr>\n",
       "  </thead>\n",
       "  <tbody>\n",
       "    <tr>\n",
       "      <th>count</th>\n",
       "      <td>20334.000000</td>\n",
       "      <td>2.033400e+04</td>\n",
       "      <td>20334.00000</td>\n",
       "      <td>20334.000000</td>\n",
       "      <td>20334.0</td>\n",
       "      <td>20334.000000</td>\n",
       "      <td>20334.000000</td>\n",
       "      <td>20334.000000</td>\n",
       "      <td>20334.000000</td>\n",
       "    </tr>\n",
       "    <tr>\n",
       "      <th>mean</th>\n",
       "      <td>10181.567572</td>\n",
       "      <td>3.565610e+03</td>\n",
       "      <td>39.11257</td>\n",
       "      <td>2.028278</td>\n",
       "      <td>0.0</td>\n",
       "      <td>14.350103</td>\n",
       "      <td>0.001426</td>\n",
       "      <td>0.000590</td>\n",
       "      <td>0.000639</td>\n",
       "    </tr>\n",
       "    <tr>\n",
       "      <th>std</th>\n",
       "      <td>5873.637497</td>\n",
       "      <td>3.985849e+04</td>\n",
       "      <td>390.70535</td>\n",
       "      <td>42.725312</td>\n",
       "      <td>0.0</td>\n",
       "      <td>11.872966</td>\n",
       "      <td>0.059075</td>\n",
       "      <td>0.051531</td>\n",
       "      <td>0.025277</td>\n",
       "    </tr>\n",
       "    <tr>\n",
       "      <th>min</th>\n",
       "      <td>1.000000</td>\n",
       "      <td>0.000000e+00</td>\n",
       "      <td>0.00000</td>\n",
       "      <td>0.000000</td>\n",
       "      <td>0.0</td>\n",
       "      <td>0.000000</td>\n",
       "      <td>0.000000</td>\n",
       "      <td>0.000000</td>\n",
       "      <td>0.000000</td>\n",
       "    </tr>\n",
       "    <tr>\n",
       "      <th>25%</th>\n",
       "      <td>5097.250000</td>\n",
       "      <td>1.940000e+02</td>\n",
       "      <td>1.00000</td>\n",
       "      <td>0.000000</td>\n",
       "      <td>0.0</td>\n",
       "      <td>7.000000</td>\n",
       "      <td>0.000000</td>\n",
       "      <td>0.000000</td>\n",
       "      <td>0.000000</td>\n",
       "    </tr>\n",
       "    <tr>\n",
       "      <th>50%</th>\n",
       "      <td>10182.500000</td>\n",
       "      <td>5.580000e+02</td>\n",
       "      <td>5.00000</td>\n",
       "      <td>0.000000</td>\n",
       "      <td>0.0</td>\n",
       "      <td>13.000000</td>\n",
       "      <td>0.000000</td>\n",
       "      <td>0.000000</td>\n",
       "      <td>0.000000</td>\n",
       "    </tr>\n",
       "    <tr>\n",
       "      <th>75%</th>\n",
       "      <td>15265.750000</td>\n",
       "      <td>1.806000e+03</td>\n",
       "      <td>18.00000</td>\n",
       "      <td>1.000000</td>\n",
       "      <td>0.0</td>\n",
       "      <td>17.000000</td>\n",
       "      <td>0.000000</td>\n",
       "      <td>0.000000</td>\n",
       "      <td>0.000000</td>\n",
       "    </tr>\n",
       "    <tr>\n",
       "      <th>max</th>\n",
       "      <td>20356.000000</td>\n",
       "      <td>4.039133e+06</td>\n",
       "      <td>36379.00000</td>\n",
       "      <td>4302.000000</td>\n",
       "      <td>0.0</td>\n",
       "      <td>228.000000</td>\n",
       "      <td>7.000000</td>\n",
       "      <td>7.000000</td>\n",
       "      <td>1.000000</td>\n",
       "    </tr>\n",
       "  </tbody>\n",
       "</table>\n",
       "</div>"
      ],
      "text/plain": [
       "                 id  youtube_view_count  youtube_like_count  \\\n",
       "count  20334.000000        2.033400e+04         20334.00000   \n",
       "mean   10181.567572        3.565610e+03            39.11257   \n",
       "std     5873.637497        3.985849e+04           390.70535   \n",
       "min        1.000000        0.000000e+00             0.00000   \n",
       "25%     5097.250000        1.940000e+02             1.00000   \n",
       "50%    10182.500000        5.580000e+02             5.00000   \n",
       "75%    15265.750000        1.806000e+03            18.00000   \n",
       "max    20356.000000        4.039133e+06         36379.00000   \n",
       "\n",
       "       youtube_dislike_count  youtube_favorite_count    view_count  \\\n",
       "count           20334.000000                 20334.0  20334.000000   \n",
       "mean                2.028278                     0.0     14.350103   \n",
       "std                42.725312                     0.0     11.872966   \n",
       "min                 0.000000                     0.0      0.000000   \n",
       "25%                 0.000000                     0.0      7.000000   \n",
       "50%                 0.000000                     0.0     13.000000   \n",
       "75%                 1.000000                     0.0     17.000000   \n",
       "max              4302.000000                     0.0    228.000000   \n",
       "\n",
       "         like_count  dislike_count  favorite_count  \n",
       "count  20334.000000   20334.000000    20334.000000  \n",
       "mean       0.001426       0.000590        0.000639  \n",
       "std        0.059075       0.051531        0.025277  \n",
       "min        0.000000       0.000000        0.000000  \n",
       "25%        0.000000       0.000000        0.000000  \n",
       "50%        0.000000       0.000000        0.000000  \n",
       "75%        0.000000       0.000000        0.000000  \n",
       "max        7.000000       7.000000        1.000000  "
      ]
     },
     "execution_count": 337,
     "metadata": {},
     "output_type": "execute_result"
    }
   ],
   "source": [
    "data_set.describe()"
   ]
  },
  {
   "cell_type": "markdown",
   "metadata": {},
   "source": [
    "## Youtube Ranking Analysis <a class=\"anchor\" id=\"youtube-statistics-analysis\"></a>"
   ]
  },
  {
   "cell_type": "markdown",
   "metadata": {},
   "source": [
    "### Youtube Hacker Hot"
   ]
  },
  {
   "cell_type": "code",
   "execution_count": 404,
   "metadata": {},
   "outputs": [],
   "source": [
    "df = pd.DataFrame({\n",
    "    'id': data_set.id,\n",
    "    'created': data_set.created,\n",
    "    'youtube_like_count': data_set.youtube_like_count,\n",
    "    'youtube_dislike_count': data_set.youtube_dislike_count,\n",
    "})"
   ]
  },
  {
   "cell_type": "code",
   "execution_count": 405,
   "metadata": {},
   "outputs": [],
   "source": [
    "# from ranking_sorting.hackernews_hot import hackernews_hot\n",
    "\n",
    "def hackernews_hot(votes, published, gravity=1.8):\n",
    "    \"\"\" Hacker news' hot sort\n",
    "    \"\"\"\n",
    "    d = datetime.datetime.now() - published\n",
    "    hour_age = d.total_seconds() // 3600\n",
    "    res = votes / math.pow(hour_age + 2, gravity)\n",
    "    return res\n",
    "\n",
    "size = len(df.index)\n",
    "rank_hackernews_hot = np.zeros(shape=(size,1), dtype=float)\n",
    "for i, el in enumerate(range(size)):\n",
    "    votes = abs(df.youtube_like_count[i] - df.youtube_dislike_count[i])\n",
    "    created = df.created[i].to_pydatetime()\n",
    "    rank_hackernews_hot[i] = hackernews_hot(votes, created, gravity=1.8)\n",
    "    \n",
    "df.loc[:, 'rank_hackernews_hot'] = rank_hackernews_hot"
   ]
  },
  {
   "cell_type": "code",
   "execution_count": 372,
   "metadata": {},
   "outputs": [
    {
     "data": {
      "image/png": "[encoded data removed]",
      "text/plain": [
       "<matplotlib.figure.Figure at 0x110475cc0>"
      ]
     },
     "metadata": {},
     "output_type": "display_data"
    }
   ],
   "source": [
    "plot_df = pd.DataFrame({\n",
    "    'id': df.id,\n",
    "    'youtube_like_count': df.youtube_like_count,\n",
    "    'youtube_dislike_count': df.youtube_dislike_count,\n",
    "})\n",
    "\n",
    "plot_df.plot(x='id');"
   ]
  },
  {
   "cell_type": "code",
   "execution_count": 409,
   "metadata": {},
   "outputs": [
    {
     "data": {
      "text/html": [
       "<div>\n",
       "<style scoped>\n",
       "    .dataframe tbody tr th:only-of-type {\n",
       "        vertical-align: middle;\n",
       "    }\n",
       "\n",
       "    .dataframe tbody tr th {\n",
       "        vertical-align: top;\n",
       "    }\n",
       "\n",
       "    .dataframe thead th {\n",
       "        text-align: right;\n",
       "    }\n",
       "</style>\n",
       "<table border=\"1\" class=\"dataframe\">\n",
       "  <thead>\n",
       "    <tr style=\"text-align: right;\">\n",
       "      <th></th>\n",
       "      <th>id</th>\n",
       "      <th>rank_hackernews_hot</th>\n",
       "    </tr>\n",
       "  </thead>\n",
       "  <tbody>\n",
       "    <tr>\n",
       "      <th>count</th>\n",
       "      <td>20334.000000</td>\n",
       "      <td>2.033400e+04</td>\n",
       "    </tr>\n",
       "    <tr>\n",
       "      <th>mean</th>\n",
       "      <td>10181.567572</td>\n",
       "      <td>1.209490e-05</td>\n",
       "    </tr>\n",
       "    <tr>\n",
       "      <th>std</th>\n",
       "      <td>5873.637497</td>\n",
       "      <td>3.354135e-04</td>\n",
       "    </tr>\n",
       "    <tr>\n",
       "      <th>min</th>\n",
       "      <td>1.000000</td>\n",
       "      <td>0.000000e+00</td>\n",
       "    </tr>\n",
       "    <tr>\n",
       "      <th>25%</th>\n",
       "      <td>5097.250000</td>\n",
       "      <td>1.167639e-08</td>\n",
       "    </tr>\n",
       "    <tr>\n",
       "      <th>50%</th>\n",
       "      <td>10182.500000</td>\n",
       "      <td>1.530909e-07</td>\n",
       "    </tr>\n",
       "    <tr>\n",
       "      <th>75%</th>\n",
       "      <td>15265.750000</td>\n",
       "      <td>1.164196e-06</td>\n",
       "    </tr>\n",
       "    <tr>\n",
       "      <th>max</th>\n",
       "      <td>20356.000000</td>\n",
       "      <td>4.424204e-02</td>\n",
       "    </tr>\n",
       "  </tbody>\n",
       "</table>\n",
       "</div>"
      ],
      "text/plain": [
       "                 id  rank_hackernews_hot\n",
       "count  20334.000000         2.033400e+04\n",
       "mean   10181.567572         1.209490e-05\n",
       "std     5873.637497         3.354135e-04\n",
       "min        1.000000         0.000000e+00\n",
       "25%     5097.250000         1.167639e-08\n",
       "50%    10182.500000         1.530909e-07\n",
       "75%    15265.750000         1.164196e-06\n",
       "max    20356.000000         4.424204e-02"
      ]
     },
     "execution_count": 409,
     "metadata": {},
     "output_type": "execute_result"
    },
    {
     "data": {
      "image/png": "[encoded data removed]",
      "text/plain": [
       "<matplotlib.figure.Figure at 0x112713940>"
      ]
     },
     "metadata": {},
     "output_type": "display_data"
    }
   ],
   "source": [
    "plot_df = pd.DataFrame({\n",
    "    'id': df.id,\n",
    "    'rank_hackernews_hot': df.rank_hackernews_hot,\n",
    "})\n",
    "\n",
    "plot_df.plot(x='id');\n",
    "\n",
    "plot_df.describe()"
   ]
  },
  {
   "cell_type": "markdown",
   "metadata": {},
   "source": [
    "### Plotting 2018"
   ]
  },
  {
   "cell_type": "code",
   "execution_count": 396,
   "metadata": {},
   "outputs": [
    {
     "data": {
      "text/html": [
       "<div>\n",
       "<style scoped>\n",
       "    .dataframe tbody tr th:only-of-type {\n",
       "        vertical-align: middle;\n",
       "    }\n",
       "\n",
       "    .dataframe tbody tr th {\n",
       "        vertical-align: top;\n",
       "    }\n",
       "\n",
       "    .dataframe thead th {\n",
       "        text-align: right;\n",
       "    }\n",
       "</style>\n",
       "<table border=\"1\" class=\"dataframe\">\n",
       "  <thead>\n",
       "    <tr style=\"text-align: right;\">\n",
       "      <th></th>\n",
       "      <th>rank_hackernews_hot</th>\n",
       "    </tr>\n",
       "  </thead>\n",
       "  <tbody>\n",
       "    <tr>\n",
       "      <th>count</th>\n",
       "      <td>3.927000e+03</td>\n",
       "    </tr>\n",
       "    <tr>\n",
       "      <th>mean</th>\n",
       "      <td>5.646850e-05</td>\n",
       "    </tr>\n",
       "    <tr>\n",
       "      <th>std</th>\n",
       "      <td>7.622220e-04</td>\n",
       "    </tr>\n",
       "    <tr>\n",
       "      <th>min</th>\n",
       "      <td>0.000000e+00</td>\n",
       "    </tr>\n",
       "    <tr>\n",
       "      <th>25%</th>\n",
       "      <td>3.284638e-07</td>\n",
       "    </tr>\n",
       "    <tr>\n",
       "      <th>50%</th>\n",
       "      <td>3.084716e-06</td>\n",
       "    </tr>\n",
       "    <tr>\n",
       "      <th>75%</th>\n",
       "      <td>1.594695e-05</td>\n",
       "    </tr>\n",
       "    <tr>\n",
       "      <th>max</th>\n",
       "      <td>4.428627e-02</td>\n",
       "    </tr>\n",
       "  </tbody>\n",
       "</table>\n",
       "</div>"
      ],
      "text/plain": [
       "       rank_hackernews_hot\n",
       "count         3.927000e+03\n",
       "mean          5.646850e-05\n",
       "std           7.622220e-04\n",
       "min           0.000000e+00\n",
       "25%           3.284638e-07\n",
       "50%           3.084716e-06\n",
       "75%           1.594695e-05\n",
       "max           4.428627e-02"
      ]
     },
     "execution_count": 396,
     "metadata": {},
     "output_type": "execute_result"
    },
    {
     "data": {
      "image/png": "[encoded data removed]",
      "text/plain": [
       "<matplotlib.figure.Figure at 0x1127ef898>"
      ]
     },
     "metadata": {},
     "output_type": "display_data"
    }
   ],
   "source": [
    "from datetime import date\n",
    "\n",
    "value_to_check = pd.Timestamp(date.today().year, 1, 1)\n",
    "filter_mask = df['created'] > value_to_check\n",
    "filtered_df = df[filter_mask]\n",
    "filtered_df\n",
    "\n",
    "plot_df = pd.DataFrame({\n",
    "    'created': filtered_df.created,\n",
    "    'rank_hackernews_hot': filtered_df.rank_hackernews_hot,\n",
    "})\n",
    "\n",
    "plot_df.plot(x='created');\n",
    "\n",
    "plot_df.describe()"
   ]
  },
  {
   "cell_type": "markdown",
   "metadata": {},
   "source": [
    "### Plotting current month"
   ]
  },
  {
   "cell_type": "code",
   "execution_count": 411,
   "metadata": {},
   "outputs": [
    {
     "data": {
      "text/html": [
       "<div>\n",
       "<style scoped>\n",
       "    .dataframe tbody tr th:only-of-type {\n",
       "        vertical-align: middle;\n",
       "    }\n",
       "\n",
       "    .dataframe tbody tr th {\n",
       "        vertical-align: top;\n",
       "    }\n",
       "\n",
       "    .dataframe thead th {\n",
       "        text-align: right;\n",
       "    }\n",
       "</style>\n",
       "<table border=\"1\" class=\"dataframe\">\n",
       "  <thead>\n",
       "    <tr style=\"text-align: right;\">\n",
       "      <th></th>\n",
       "      <th>rank_hackernews_hot</th>\n",
       "    </tr>\n",
       "  </thead>\n",
       "  <tbody>\n",
       "    <tr>\n",
       "      <th>count</th>\n",
       "      <td>136.000000</td>\n",
       "    </tr>\n",
       "    <tr>\n",
       "      <th>mean</th>\n",
       "      <td>0.000349</td>\n",
       "    </tr>\n",
       "    <tr>\n",
       "      <th>std</th>\n",
       "      <td>0.000948</td>\n",
       "    </tr>\n",
       "    <tr>\n",
       "      <th>min</th>\n",
       "      <td>0.000000</td>\n",
       "    </tr>\n",
       "    <tr>\n",
       "      <th>25%</th>\n",
       "      <td>0.000033</td>\n",
       "    </tr>\n",
       "    <tr>\n",
       "      <th>50%</th>\n",
       "      <td>0.000188</td>\n",
       "    </tr>\n",
       "    <tr>\n",
       "      <th>75%</th>\n",
       "      <td>0.000361</td>\n",
       "    </tr>\n",
       "    <tr>\n",
       "      <th>max</th>\n",
       "      <td>0.010078</td>\n",
       "    </tr>\n",
       "  </tbody>\n",
       "</table>\n",
       "</div>"
      ],
      "text/plain": [
       "       rank_hackernews_hot\n",
       "count           136.000000\n",
       "mean              0.000349\n",
       "std               0.000948\n",
       "min               0.000000\n",
       "25%               0.000033\n",
       "50%               0.000188\n",
       "75%               0.000361\n",
       "max               0.010078"
      ]
     },
     "execution_count": 411,
     "metadata": {},
     "output_type": "execute_result"
    },
    {
     "data": {
      "image/png": "[encoded data removed]",
      "text/plain": [
       "<matplotlib.figure.Figure at 0x1161c0828>"
      ]
     },
     "metadata": {},
     "output_type": "display_data"
    }
   ],
   "source": [
    "from datetime import date\n",
    "\n",
    "value_to_check = pd.Timestamp(date.today().year, date.today().month, 1)\n",
    "filter_mask = df['created'] > value_to_check\n",
    "filtered_df = df[filter_mask]\n",
    "filtered_df\n",
    "\n",
    "plot_df = pd.DataFrame({\n",
    "    'created': filtered_df.created,\n",
    "    'rank_hackernews_hot': filtered_df.rank_hackernews_hot,\n",
    "})\n",
    "\n",
    "plot_df.plot.bar(x='created');\n",
    "plt.xticks([])\n",
    "\n",
    "plot_df.describe()"
   ]
  }
 ],
 "metadata": {
  "kernelspec": {
   "display_name": "Python 3",
   "language": "python",
   "name": "python3"
  },
  "language_info": {
   "codemirror_mode": {
    "name": "ipython",
    "version": 3
   },
   "file_extension": ".py",
   "mimetype": "text/x-python",
   "name": "python",
   "nbconvert_exporter": "python",
   "pygments_lexer": "ipython3",
   "version": "3.6.4"
  }
 },
 "nbformat": 4,
 "nbformat_minor": 2
}
